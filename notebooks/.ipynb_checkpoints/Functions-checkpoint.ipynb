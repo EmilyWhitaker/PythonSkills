{
 "cells": [
  {
   "cell_type": "markdown",
   "metadata": {
    "collapsed": true
   },
   "source": [
    "# Writing, using, and understanding functions"
   ]
  },
  {
   "cell_type": "markdown",
   "metadata": {},
   "source": [
    "## General form of functions"
   ]
  },
  {
   "cell_type": "code",
   "execution_count": 18,
   "metadata": {},
   "outputs": [
    {
     "data": {
      "text/plain": [
       "\"\\nThis function computes the surface area of a cylinder. Notice in the header that we've defined the function to take\\ntwo parameters: radius and height.  This way, our function is adaptable to find the surface area of any cylinder with\\nany radius and any height.  Run this cell, then run cells below to test it out.\\n\""
      ]
     },
     "execution_count": 18,
     "metadata": {},
     "output_type": "execute_result"
    }
   ],
   "source": [
    "'''\n",
    "Functions are blocks of code to which we give names, so that they can be reused and generalized. If you want to do\n",
    "the same manipulation or process multiple times, it saves time and makes your code shorter and easier to understand.\n",
    "\n",
    "Functions have two parts: a header and a body.  In the header, you define the function (along with any parameters it\n",
    "takes...more on that later).  In the body, you write code that the function will execute whenever you \"call\" it later.\n",
    "For example:'''\n",
    "\n",
    "def whats_your_name():\n",
    "    print(\"My name is Emily\")\n",
    "    \n",
    "'''The code above defines the function `whats_your_name()`. Whenever that function is called later on, Python will\n",
    "run the code contained in the body of the function. In this case, that's simply printing \"My name is Emily,\" so it's\n",
    "not particularly time-saving versus just typing the print statement. However, functions can be quite complicated, and\n",
    "their ability to be written out once in a general form and applied to specific cases is why they're useful.\n",
    "A simple example is:'''\n",
    "\n",
    "def cylinder_surface_area(radius, height):\n",
    "    circles = 2*3.14159*(radius**2) # ** denotes an exponent in python\n",
    "    tube = 2*3.14159*radius*height\n",
    "    return circles+tube \n",
    "    # for maximum efficiency, this could have been written out as `return 2*3.14159*(radius**2) + 2*3.14159*radius*height`\n",
    "    # but that sacrifices some readability. It's always a trade-off, but readability is often more important,\n",
    "    # especially for more complex code\n",
    "    \n",
    "'''This function computes the surface area of a cylinder. Notice in the header that we've defined the function to take\n",
    "two parameters: radius and height.  This way, our function is adaptable to find the surface area of any cylinder with\n",
    "any radius and any height.  **The data we pass it to take the place of these parameters are called arguments.**  \n",
    "Also note the \"return\" statement in the last line. You can think of this like a print statement that doesn't print \n",
    "to the screen. It's a way of telling the function what it should output when called, so that it will output that value\n",
    "when you call it later.\n",
    "Run this cell to define the function, then run cells below to test it out.'''"
   ]
  },
  {
   "cell_type": "code",
   "execution_count": 53,
   "metadata": {
    "collapsed": true
   },
   "outputs": [],
   "source": [
    "print(cylinder_surface_area(12, 5))"
   ]
  },
  {
   "cell_type": "code",
   "execution_count": 54,
   "metadata": {
    "collapsed": true
   },
   "outputs": [],
   "source": [
    "print(cylinder_surface_area(45, 1))"
   ]
  },
  {
   "cell_type": "code",
   "execution_count": 23,
   "metadata": {
    "collapsed": true
   },
   "outputs": [],
   "source": [
    "# This cell will error. Can you tell why?\n",
    "print(cylinder_surface_area(22))"
   ]
  },
  {
   "cell_type": "markdown",
   "metadata": {},
   "source": [
    "## Positional arguments and default values"
   ]
  },
  {
   "cell_type": "code",
   "execution_count": 42,
   "metadata": {},
   "outputs": [
    {
     "data": {
      "text/plain": [
       "'\\nThis is a simple function that converts from a number of common weight units to tons. The user can choose whether\\nthey want to convert to US or British tons by setting the boolean parameter \"british,\" though the default is US. \\nRun this cell, then the examples below to confirm that this is how the function actually behaves.'"
      ]
     },
     "execution_count": 42,
     "metadata": {},
     "output_type": "execute_result"
    }
   ],
   "source": [
    "'''\n",
    "The cell above errored because we only passed one argument when we defined the function to take two.  However, it is\n",
    "not always the case that every paramater in the function's definition must recieve an argument. It is possible to \n",
    "assign a  parameter a default value in the function's header, so that if no argument is passed to it, it will take that\n",
    "value. You must specify all parameters without default values for your function call to run.\n",
    "For example:\n",
    "'''\n",
    "\n",
    "def convert_from_tons(tons, units, british=False):\n",
    "    if british:\n",
    "        starting_weight = 0.892857143*tons\n",
    "    else:\n",
    "        starting_weight = tons\n",
    "    if units == 'pounds':\n",
    "        output = starting_weight*2000\n",
    "    elif units == 'kilograms':\n",
    "        output = starting_weight*907.185\n",
    "    elif units == 'grams':\n",
    "        output = starting_weight*907185\n",
    "    elif units == 'ounces':\n",
    "        output = starting_weight*32000\n",
    "    elif units == 'stones':\n",
    "        output = starting_weight*142.857\n",
    "    return str(output) + ' ' + units\n",
    "\n",
    "'''\n",
    "Here's a simple function that converts from a number of common weight units to tons. The user can choose whether\n",
    "they want to convert to US or British tons by setting the boolean parameter \"british,\" though the default is US. \n",
    "Run this cell, then the examples below to confirm that this is how the function actually behaves.'''"
   ]
  },
  {
   "cell_type": "code",
   "execution_count": 55,
   "metadata": {
    "collapsed": true
   },
   "outputs": [],
   "source": [
    "print(convert_from_tons(100, 'pounds'))"
   ]
  },
  {
   "cell_type": "code",
   "execution_count": 56,
   "metadata": {
    "collapsed": true
   },
   "outputs": [],
   "source": [
    "print(convert_from_tons(100, 'pounds', british=True))"
   ]
  },
  {
   "cell_type": "code",
   "execution_count": 57,
   "metadata": {
    "collapsed": true
   },
   "outputs": [],
   "source": [
    "print(convert_from_tons(0.5, 'ounces'))"
   ]
  },
  {
   "cell_type": "code",
   "execution_count": 58,
   "metadata": {
    "collapsed": true
   },
   "outputs": [],
   "source": [
    "print(convert_from_tons(british=True, tons=0.5, units='ounces'))\n",
    "# Notice that arguments can be passed to the function out of order, as long as their names are specified with the\n",
    "# corresponding parameter — a \"keyword\""
   ]
  },
  {
   "cell_type": "markdown",
   "metadata": {},
   "source": [
    "## Problems"
   ]
  },
  {
   "cell_type": "markdown",
   "metadata": {},
   "source": [
    "### 1"
   ]
  },
  {
   "cell_type": "code",
   "execution_count": null,
   "metadata": {
    "collapsed": true
   },
   "outputs": [],
   "source": [
    "'''Write a function that takes no prarameters and returns the current month, date, and how many days are left in the\n",
    "current month. Call to print the function after you define it'''\n",
    "\n",
    "#The output should be in the form: \"It is May 12 and there are 19 days left in May\""
   ]
  },
  {
   "cell_type": "markdown",
   "metadata": {},
   "source": [
    "### 2"
   ]
  },
  {
   "cell_type": "code",
   "execution_count": null,
   "metadata": {
    "collapsed": true
   },
   "outputs": [],
   "source": [
    "'''Now write a function that does the same thing as above, but takes two parameters, the date as an int and the\n",
    "month as a string. Prove the function works on any date in any month. Disregard leap years.\"'''\n"
   ]
  },
  {
   "cell_type": "code",
   "execution_count": 96,
   "metadata": {
    "collapsed": true
   },
   "outputs": [],
   "source": [
    "'''The output of functions can be easily stored in variables like this:'''\n",
    "def simply_add_stuff(a, b):\n",
    "    return a + b\n",
    "\n",
    "c = simply_add_stuff(4,4)\n",
    "print(c)\n",
    "\n",
    "d = simply_add_stuff(12,1) - simply_add_stuff(2,1)\n",
    "print(d)\n",
    "\n",
    "# or printed directly like this:\n",
    "print(simply_add_stuff(99,1) + simply_add_stuff(15,5))"
   ]
  },
  {
   "cell_type": "markdown",
   "metadata": {},
   "source": [
    "### 3"
   ]
  },
  {
   "cell_type": "code",
   "execution_count": 87,
   "metadata": {},
   "outputs": [
    {
     "name": "stdout",
     "output_type": "stream",
     "text": [
      "224.829867\n"
     ]
    }
   ],
   "source": [
    "'''Simplify the following messy code by writing a general function to take care of repeated tasks '''\n",
    "\n",
    "# On a road trip, I bought some foods that were sold by the pound in different states with different sales tax rates,\n",
    "# and want to know how much I spent total.\n",
    "\n",
    "# New Hampshire: \n",
    "NHprice = 6.0*5.99\n",
    "NHtax = 0.0*NHprice\n",
    "NHtotal = NHprice + NHtax\n",
    "\n",
    "# Vermont\n",
    "VTprice = 4.0*3.99\n",
    "VTtax = 0.0616*VTprice\n",
    "VTtotal = VTprice + VTtax\n",
    "\n",
    "# New York\n",
    "NYprice = 3.0*12.99\n",
    "NYtax = 0.0849*NYprice\n",
    "NYtotal = NYprice + NYtax\n",
    "\n",
    "# Pennsylvania\n",
    "PAprice = 14.0*6.99\n",
    "PAtax = 0.0643*PAprice\n",
    "PAtotal = PAprice + PAtax\n",
    "\n",
    "# New Jersey\n",
    "NJprice = 12.0*1.99\n",
    "NJtax = 0.0685*NJprice\n",
    "NJtotal = NJprice + NJtax\n",
    "\n",
    "my_total_cost = NHtotal + VTtotal + NYtotal + PAtotal + NJtotal\n",
    "print(my_total_cost)\n",
    "\n",
    "\n"
   ]
  },
  {
   "cell_type": "markdown",
   "metadata": {},
   "source": [
    "## importing functions, modules, and packages"
   ]
  },
  {
   "cell_type": "code",
   "execution_count": null,
   "metadata": {
    "collapsed": true
   },
   "outputs": [],
   "source": [
    "# To avoid confusion later on, don't run this cell\n",
    "''' It's often incredibly useful to use functions someone else wrote. If you're coding a hard task in Python, chances\n",
    "are good that someone has done it before. A quick Google search can locate useful modules and packages that have many\n",
    "pre-defined functions you can use. Modules can be imported a few different ways. Take the built-in python \"math\" \n",
    "module for example:'''\n",
    "\n",
    "from math import sqrt # this imports the square root function from the math module\n",
    "from math import * # this imports ALL functions from the math module\n",
    "import math # this also imports all functions from the math module, but changes how they're called slightly, described\n",
    "            # below\n",
    "\n",
    "'''Using `from module_name import *` imports all functions so that they may be called as `function_name().\n",
    "When calling functions imported with the `import module_name` however, they must be called as\n",
    "`module_name.function_name(). \n",
    "There are pros and cons to both. The former way takes less typing to call your function, but loses you context about \n",
    "what the function is and where it came from. This can be a problem in writing very large sets of code.\n",
    "The latter way can take more repetitive typing, but maintains the clear reference to the package it came from.\n",
    "A good compromise to use is:'''\n",
    "\n",
    "import math as m # this imports the math module but allows you to reference it as \"m,\" so you call functions with\n",
    "                 # m.sqrt()\n",
    "\n",
    "\n",
    "'''A \"module\" is a file (or files) of defined functions, while a \"package\" is a\n",
    "collection of modules in directories that give the package a heirarchical organization. For example, SciPy is a large,\n",
    "powereful PACKAGE great for mathematical and scientific functions.  It contains the MODULE stats, which contains\n",
    "numerous functions for statistical analyses.  Say you want to use the `ttest_ind()` function to do a T-test on two\n",
    "independent samples. You could do this either of the following ways.'''\n",
    "\n",
    "# import the entire scipy package, but specify the stats module and ttest_ind() function when calling it\n",
    "import scipy\n",
    "scipy.stats.ttest_ind(your_sample_1, your_sample_2)\n",
    "\n",
    "# import the stats module and specify the ttest_ind() function when calling it\n",
    "from scipy import stats # Note: `import scipy.stats as stats` does the same thing\n",
    "stats.ttest_ind(sample_1,sample_2)"
   ]
  },
  {
   "cell_type": "markdown",
   "metadata": {},
   "source": [
    "## installing packages"
   ]
  },
  {
   "cell_type": "code",
   "execution_count": null,
   "metadata": {
    "collapsed": true
   },
   "outputs": [],
   "source": [
    "'''Though Python has a number of useful builtin modules, you'll have to download most of the packages you'll use.\n",
    "Python provides a very easy way to do this though the pip package.  Most ways of installing Python on your computer\n",
    "install pip, but if it is not installed, it can be found here https://pip.pypa.io/en/stable/installing/\n",
    "There are a few ways to install packages with pip. For most packages, simply open Mac's terminal/Windows'command prompt\n",
    "and type `pip install <name_of_package>.\n",
    "To install a package you downloaded from GitHub, navigate in terminal to the GitHub repository and type `pip install -e .`\n",
    "Many large, complex packages depend on other simpler packages. Pip usually installs these dependencies automatically.\n",
    "If you are msising dependencies for a package you installed from GitHub, you can usually find a file called \n",
    "\"requirements.txt\" in the package's folder on your computer. To install the required packages, navigate in terminal to\n",
    "the repository and type `pip install -r requirements.txt`.\n",
    "\n",
    "Most packages have a webpage that documents how to use their functions, as well as what parameters those functions take.\n",
    "This is called an API (Application programming interface).  For example, the builtin math module's can be found\n",
    "here https://docs.python.org/3/library/math.html\n",
    "And SciPy's can be found here\n",
    "https://docs.scipy.org/doc/scipy/reference/index.html"
   ]
  },
  {
   "cell_type": "markdown",
   "metadata": {},
   "source": [
    "### 3"
   ]
  },
  {
   "cell_type": "code",
   "execution_count": 83,
   "metadata": {
    "collapsed": true
   },
   "outputs": [],
   "source": [
    "'''Write a function that can compute the volume of a pyramid with a pentagonal (5-sided), hexagonal (6-sided),\n",
    "heptagonal (7-sided), or octagonal (8-sided) base. The function should take 2 parameters: the height, and the number\n",
    "of sides on the base.  Make the default a pentagonal pyramid unless the user specifies otherwise. Show that your\n",
    "function works on one of each type of pyramid.\n",
    "Hint: the built-in math package has trig functions you'll need.\n",
    "Hint: Google the formulas for volume of a pyramid and the areas of each of the base shapes.'''\n",
    "\n"
   ]
  },
  {
   "cell_type": "markdown",
   "metadata": {},
   "source": [
    "### 4"
   ]
  },
  {
   "cell_type": "code",
   "execution_count": null,
   "metadata": {
    "collapsed": true
   },
   "outputs": [],
   "source": [
    "'''Write a function that simulates rolling a die with a given number of sides a given number of times, and returns\n",
    "the average of all the rolls.  Show three different examples of your working function.\n",
    "Hint: the numpy package has a `mean()` function as well as a module called \"random\" with a `randint()` function.\n",
    "Here are the references for how to use them:\n",
    "https://docs.scipy.org/doc/numpy-1.14.0/reference/generated/numpy.mean.html\n",
    "https://docs.scipy.org/doc/numpy-1.14.0/reference/generated/numpy.random.randint.html\n",
    "Only worry about the first parameter for the `mean()` function and the first two for the `randint()` function.\n",
    "'''\n",
    "\n"
   ]
  },
  {
   "cell_type": "markdown",
   "metadata": {},
   "source": [
    "### Challenge (longer)"
   ]
  },
  {
   "cell_type": "code",
   "execution_count": null,
   "metadata": {
    "collapsed": true
   },
   "outputs": [],
   "source": [
    "# adapted from COSC001: Intro to Programming and Computation, Devin Balkcom\n",
    "'''In the year 0 A.D., your distant ancestor Normalus Dudeus deposited $1.00 in Ledyard Bank (it existed back then, \n",
    "trust me). The bank wrote the worst contract ever, promising to pay %5 interest compounded every year, with no end \n",
    "date.  Keep in mind compound interest means 5% interest on the previous year's balance, not on the original $1.00).\n",
    "Tragically, your ancestor was struck by a moose just after leaving the bank and died.\n",
    "Later the same day, your ancestor's rich arch nemesis Cashius Maximus deposited $1 million at Ledyard Bank.  However, \n",
    "the teller who gave your ancestor the %5 interest and whose domesticated moose trampled Normalus was quickly fired,\n",
    "and replaced with a new teller who only offered Cashius 4% compounded interest.\n",
    "\n",
    "Write two functions: \n",
    "The first should calculate the balance in the account given any year. Find the balance in the account the year you were\n",
    "born, and the current year.\n",
    "The second should return the first year that Normalus's account has more money in it than his nemesis, Cashius.\n",
    "\n",
    "Hint: sticking print statements along the way in your code is an easy, useful way to debug. Try doing this in your\n",
    "functions to make sure they're calculating what you think they are\n",
    "Good luck!\n",
    "'''\n",
    "\n"
   ]
  },
  {
   "cell_type": "code",
   "execution_count": null,
   "metadata": {
    "collapsed": true
   },
   "outputs": [],
   "source": [
    "# Author: Paxton Fitzpatrick, May 12, 2018"
   ]
  }
 ],
 "metadata": {
  "kernelspec": {
   "display_name": "Python 3",
   "language": "python",
   "name": "python3"
  },
  "language_info": {
   "codemirror_mode": {
    "name": "ipython",
    "version": 3
   },
   "file_extension": ".py",
   "mimetype": "text/x-python",
   "name": "python",
   "nbconvert_exporter": "python",
   "pygments_lexer": "ipython3",
   "version": "3.6.2"
  }
 },
 "nbformat": 4,
 "nbformat_minor": 2
}

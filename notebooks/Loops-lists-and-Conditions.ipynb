{
 "cells": [
  {
   "cell_type": "markdown",
   "metadata": {},
   "source": [
    "# Practice on Loops, lists, and conditions"
   ]
  },
  {
   "cell_type": "code",
   "execution_count": null,
   "metadata": {
    "collapsed": true
   },
   "outputs": [],
   "source": [
    "'''\n",
    "General questions:\n",
    "What's the difference between `=` and `==`?\n",
    "What is a boolean expression?\n",
    "    How are ints, floats, and strings compared in boolean expressions?\n",
    "    How are 'and', 'or', and 'not' considered in boolean expressions?\n",
    "What does the % operator do?\n",
    "What's the difference between a while loop and a for loop?\n",
    "What is the \"condition\" in a while loop?\n",
    "    How do you increment this condition?\n",
    "What is an \"iterator\" in a for loop?\n",
    "    How is range() useful in a for loop?\n",
    "Why is a for loop often much better to use than a while loop?\n",
    "How do \"if\", \"elif\", and \"else\" work?\n",
    "\n",
    "\n",
    "Tip: a useful skill to learn is \"stepping through\" code, particularly with loops. Before you \n",
    "run each cell, walk yourself mentally through each line of your code and say/write down what\n",
    "you think the final output will be.  If you get an error, what made the code run differently\n",
    "than you expected?\n",
    "'''"
   ]
  },
  {
   "cell_type": "markdown",
   "metadata": {},
   "source": [
    "## Boolean Practice"
   ]
  },
  {
   "cell_type": "code",
   "execution_count": null,
   "metadata": {
    "collapsed": true
   },
   "outputs": [],
   "source": [
    "'''\n",
    "What will each of the following snippets of code return?\n",
    "Make a prediction, then run them to find out.\n",
    "'''\n",
    "\n",
    "c = 5 > 6\n",
    "print( c )\n",
    "\n",
    "x = 5\n",
    "print(x < 4)\n",
    "\n",
    "x = 5\n",
    "print( x = 4 )    # what's the problem with this line?\n",
    "print( x == 4 )\n",
    "\n",
    "print( x % 2 == 0)\n",
    "\n",
    "print( True and True )\n",
    "print( True and False )\n",
    "print( 3 < 4 and 10 < 12 )\n",
    "print( 3 < 4 or 12 < 10 )\n",
    "print( 4 < 3 or 12 < 10 )\n",
    "print( (4 < 3 and 12 < 10) or 7 == 7 )\n",
    "\n",
    "print( not 4 < 3 )\n",
    "print( not not True )"
   ]
  },
  {
   "cell_type": "markdown",
   "metadata": {},
   "source": [
    "## Loop and if statement practice"
   ]
  },
  {
   "cell_type": "markdown",
   "metadata": {},
   "source": [
    "### 1"
   ]
  },
  {
   "cell_type": "code",
   "execution_count": null,
   "metadata": {
    "collapsed": true
   },
   "outputs": [],
   "source": [
    "# Write a while loop that prints the numbers between 0 and 50\n",
    "\n"
   ]
  },
  {
   "cell_type": "markdown",
   "metadata": {},
   "source": [
    "### 2"
   ]
  },
  {
   "cell_type": "code",
   "execution_count": 1,
   "metadata": {
    "collapsed": true
   },
   "outputs": [],
   "source": [
    "# Write a while loop that prints the numbers between 0 and 10, but after each number, \n",
    "# prints each item of the following list once:\n",
    "some_words = ['optimal', 'memory', 'absolute']\n",
    "# Hint: use a nested loop!\n",
    "\n"
   ]
  },
  {
   "cell_type": "markdown",
   "metadata": {},
   "source": [
    "### 3"
   ]
  },
  {
   "cell_type": "code",
   "execution_count": null,
   "metadata": {
    "collapsed": true
   },
   "outputs": [],
   "source": [
    "# Write a while loop that prints the EVEN numbers between 0 and 50\n",
    "# Hint: use a nested if statement!\n",
    "\n"
   ]
  },
  {
   "cell_type": "markdown",
   "metadata": {},
   "source": [
    "### 4"
   ]
  },
  {
   "cell_type": "code",
   "execution_count": null,
   "metadata": {
    "collapsed": true
   },
   "outputs": [],
   "source": [
    "'''Write some code that counts from 0 up to 20 then back down to 1 \n",
    "THREE TIMES TOTAL, then stops.\n",
    "Hint: What condition can you set that will cause you to change the direction you're counting?\n",
    "Hint: What can you do to cause this to happen three times then stop?'''\n",
    "\n"
   ]
  },
  {
   "cell_type": "markdown",
   "metadata": {},
   "source": [
    "### 5"
   ]
  },
  {
   "cell_type": "code",
   "execution_count": null,
   "metadata": {
    "collapsed": true
   },
   "outputs": [],
   "source": [
    "'''Fill in the following \"skeleton code\" so that the output is \"Yes, it's\n",
    "divisible by 2\" if the number is divisible by 2, \"Yes, it's divisible by 4\"\n",
    "if the number is divisible by 4, and \"Nope, this one's odd\" if it is odd.\n",
    "'''\n",
    "x = 1\n",
    "while x < 50:\n",
    "    if x '''_____''':\n",
    "        print(\"____\")\n",
    "        if x '''_____''':\n",
    "            print(\"____\")\n",
    "    else:\n",
    "        print(\"____\")\n",
    "    "
   ]
  },
  {
   "cell_type": "markdown",
   "metadata": {},
   "source": [
    "### 6"
   ]
  },
  {
   "cell_type": "code",
   "execution_count": null,
   "metadata": {
    "collapsed": true
   },
   "outputs": [],
   "source": [
    "''' Write a piece of code that counts from 12 to 35, and prints the number, along with the word\n",
    "\"Emily\" if the number is even, and \"Whitaker\" if the number is odd.\n",
    "'''\n",
    "\n"
   ]
  },
  {
   "cell_type": "markdown",
   "metadata": {},
   "source": [
    "### 6b"
   ]
  },
  {
   "cell_type": "code",
   "execution_count": null,
   "metadata": {
    "collapsed": true
   },
   "outputs": [],
   "source": [
    "'''Redo number 6, but without typing the words \"Emily\" and \"Whitaker\" in your print statements.\n",
    "Hint: How else could you store the words and then reference them so that they are printed in\n",
    "the right places?\n",
    "'''\n",
    "\n"
   ]
  },
  {
   "cell_type": "markdown",
   "metadata": {},
   "source": [
    "### 7"
   ]
  },
  {
   "cell_type": "code",
   "execution_count": null,
   "metadata": {
    "collapsed": true
   },
   "outputs": [],
   "source": [
    "'''Challenge: Write some code that for each number between 30 and 80, prints \"TRUE\" if\n",
    "the number is even, prints \"My name is Emily\" if the number is odd, BUT\n",
    "does neither of those things and instead prints \"WOOOO ___ is divisble by 7!\" if the number is\n",
    "divisible by 7 (the ___ should be the number).  Do this WITHOUT directly telling your code to \n",
    "print the word TRUE, but rather using a boolean expression that depends on the current number.\n",
    "Also do this without nesting any if statements inside other if statements\n",
    "Hint: how can you sort multiple conditions without nesting if's?\n",
    "Hint: which condition should you deal with first, and why?\n"
   ]
  },
  {
   "cell_type": "markdown",
   "metadata": {
    "collapsed": true
   },
   "source": [
    "### 8"
   ]
  },
  {
   "cell_type": "code",
   "execution_count": null,
   "metadata": {
    "collapsed": true
   },
   "outputs": [],
   "source": [
    "'''Take your solutions to problems 1, 2, 3, 5, 6, and 7, and rewrite them using for loops instead\n",
    "of while loops.  Which way uses fewer lines of code?\n",
    "Hint: how can the range() function help with this?\n",
    "'''\n",
    "# redo 1 here\n",
    "\n"
   ]
  },
  {
   "cell_type": "code",
   "execution_count": null,
   "metadata": {
    "collapsed": true
   },
   "outputs": [],
   "source": [
    "# redo 2 here\n",
    "\n"
   ]
  },
  {
   "cell_type": "code",
   "execution_count": null,
   "metadata": {
    "collapsed": true
   },
   "outputs": [],
   "source": [
    "# redo 3 here\n",
    "\n"
   ]
  },
  {
   "cell_type": "code",
   "execution_count": null,
   "metadata": {
    "collapsed": true
   },
   "outputs": [],
   "source": [
    "# redo 5 here"
   ]
  },
  {
   "cell_type": "code",
   "execution_count": null,
   "metadata": {
    "collapsed": true
   },
   "outputs": [],
   "source": [
    "# redo 6 here"
   ]
  },
  {
   "cell_type": "markdown",
   "metadata": {},
   "source": [
    "## Indexing things other than lists"
   ]
  },
  {
   "cell_type": "code",
   "execution_count": null,
   "metadata": {
    "collapsed": true
   },
   "outputs": [],
   "source": [
    "'''You can index into a list using brackets (e.g. some_list[0] gives you the first item\n",
    "in the list) but you can also index things like strings. For example:'''\n",
    "your_name = 'Emily'\n",
    "print(your_name[1]) #this would print 'm'\n",
    "print(your_name[2]) #this would print 'i'\n",
    "\n",
    "'''This can be useful combined with type conversions, like the str() function, \n",
    "used to convert other \"types\" to strings. You can also use int(), float(), list(), dict(), etc\n",
    "for types that are built into Python. Many packages offer their own versions of this like numpy,\n",
    "where you can use numpy.array() to convert something to a data array, or pandas, in which\n",
    "pandas.DataFrame() to make a dataframe out of something like a numpy array or a dictionary.\n",
    "You can always check what \"type\" a variable currently is by doing type(<variable-name>)\n",
    "'''"
   ]
  },
  {
   "cell_type": "markdown",
   "metadata": {},
   "source": [
    "### 9"
   ]
  },
  {
   "cell_type": "code",
   "execution_count": null,
   "metadata": {
    "collapsed": true
   },
   "outputs": [],
   "source": [
    "'''Take this integer and convert it to a string, then index it to print out the digit 7'''\n",
    "number = 12347234890\n",
    "\n"
   ]
  },
  {
   "cell_type": "markdown",
   "metadata": {},
   "source": [
    "## Other useful indexing tricks"
   ]
  },
  {
   "cell_type": "code",
   "execution_count": null,
   "metadata": {
    "collapsed": true
   },
   "outputs": [],
   "source": [
    "'''Pulling out one index of something at a timefrom the beginning isn't the only way. You can\n",
    "return multiple indices, or index from the back, by doing things like:'''\n",
    "\n",
    "my_list = [11, 12, 13, 14, 15, 16, 17, 18, 19, 20]\n",
    "print(my_list[:4]) # prints [11, 12, 13, 14] -- from the beginning of my_list up to (but not including!) my_list[4]\n",
    "print(my_list[2:6]) # prints [13, 14, 15, 16] -- from my_list[2] up to (but not including!) my_list[6]\n",
    "print(my_list[5:]) # prints [16, 17, 18, 19, 20] -- from my_list[5] to the end of the list\n",
    "print(my_list[-2]) # prints 20 -- the \"minus 1st\" index of the list\n",
    "print(my_list[:-5]) # prints [11, 12, 13, 14, 15] -- the beginning up to (but not including!) the \"minus 5th\" index\n",
    "print(my_list[-3:]) # prints [18, 19, 20] -- the \"minus third\" to last item of the list"
   ]
  },
  {
   "cell_type": "markdown",
   "metadata": {},
   "source": [
    "### 10"
   ]
  },
  {
   "cell_type": "code",
   "execution_count": null,
   "metadata": {
    "collapsed": true
   },
   "outputs": [],
   "source": [
    "'''Take this string and make it print out 'hit' by indexing from the front and back '''\n",
    "cool_name = 'EmilyWhitaker'\n",
    "\n",
    "# indexing from the front\n",
    "\n",
    "\n",
    "# indexing from the back\n",
    "\n"
   ]
  },
  {
   "cell_type": "markdown",
   "metadata": {},
   "source": [
    "## List comprehensions"
   ]
  },
  {
   "cell_type": "code",
   "execution_count": 24,
   "metadata": {
    "collapsed": true
   },
   "outputs": [],
   "source": [
    "'''List comprehensions are a really useful way to make looping over things more efficient.\n",
    "They can get really complicated when you're doing complex tasks, but here are two simple examples.\n",
    "\n",
    "You can take a piece of code that looks like this:'''\n",
    "\n",
    "my_list = []\n",
    "for num in range(20):\n",
    "    my_list.append(num)\n",
    "print(my_list)\n",
    "\n",
    "'''and turn it into a comprehension that looks like this:'''\n",
    "\n",
    "my_list = [num for num in range(20)]\n",
    "\n",
    "\n",
    "\n",
    "'''You can also take a chunk of code like this:'''\n",
    "\n",
    "my_long_list = []\n",
    "for num in range(20):\n",
    "    my_long_list.append(num)\n",
    "\n",
    "my_short_list = []\n",
    "for num in my_short_list:\n",
    "    if num < 15:\n",
    "        my_short_list.append(num)\n",
    "        \n",
    "'''and turn it into this:'''\n",
    "\n",
    "my_long_list = [num for num in range(20)]\n",
    "my_short_list = [num for num in range(20) if num<15]"
   ]
  },
  {
   "cell_type": "markdown",
   "metadata": {},
   "source": [
    "### 11"
   ]
  },
  {
   "cell_type": "code",
   "execution_count": 21,
   "metadata": {
    "collapsed": true
   },
   "outputs": [],
   "source": [
    "'''Using a list comprehension, print a list of the numbers between 20 and 90 that are divisble\n",
    "by 3.\n",
    "Hint: remember how the % operator works!'''\n",
    "\n"
   ]
  },
  {
   "cell_type": "markdown",
   "metadata": {},
   "source": [
    "## Put it all together!"
   ]
  },
  {
   "cell_type": "code",
   "execution_count": 87,
   "metadata": {
    "scrolled": true
   },
   "outputs": [
    {
     "name": "stdout",
     "output_type": "stream",
     "text": [
      "5 Whitaker\n",
      "-5 Emily\n",
      "9 Whitaker\n",
      "-5 Emily\n",
      "13 Whitaker\n",
      "-5 Emily\n",
      "17 Whitaker\n",
      "-5 Emily\n",
      "21 Whitaker\n",
      "-5 Emily\n",
      "25 Whitaker\n",
      "-5 Emily\n",
      "29 Whitaker\n",
      "-5 Emily\n",
      "33 Whitaker\n",
      "-5 Emily\n",
      "37 Whitaker\n",
      "-5 Emily\n",
      "41 Whitaker\n",
      "-5 Emily\n",
      "45 Whitaker\n",
      "-5 Emily\n",
      "49 Whitaker\n",
      "-5 Emily\n",
      "53 Whitaker\n",
      "-5 Emily\n",
      "57 Whitaker\n",
      "-5 Emily\n",
      "61 Whitaker\n",
      "-5 Emily\n",
      "65 Whitaker\n",
      "-5 Emily\n",
      "69 Whitaker\n",
      "-5 Emily\n",
      "73 Whitaker\n",
      "-5 Emily\n",
      "77 Whitaker\n",
      "-5 Emily\n",
      "81 Whitaker\n",
      "-5 Emily\n",
      "85 Whitaker\n",
      "-5 Emily\n",
      "89 Whitaker\n",
      "-5 Emily\n",
      "93 Whitaker\n",
      "-5 Emily\n",
      "97 Whitaker\n",
      "-5 Emily\n",
      "101 Whitaker\n",
      "-5 Emily\n",
      "105 Whitaker\n",
      "-5 Emily\n",
      "109 Whitaker\n",
      "-5 Emily\n",
      "113 Whitaker\n",
      "-5 Emily\n",
      "117 Whitaker\n",
      "-5 Emily\n",
      "121 Whitaker\n",
      "-5 Emily\n",
      "125 Whitaker\n",
      "-5 Emily\n",
      "129 Whitaker\n",
      "-5 Emily\n",
      "133 Whitaker\n",
      "-5 Emily\n",
      "137 Whitaker\n",
      "-5 Emily\n",
      "141 Whitaker\n",
      "-5 Emily\n",
      "145 Whitaker\n",
      "-5 Emily\n",
      "149 Whitaker\n",
      "-5 Emily\n",
      "153 Whitaker\n",
      "-5 Emily\n",
      "157 Whitaker\n",
      "-5 Emily\n",
      "161 Whitaker\n",
      "-5 Emily\n",
      "165 Whitaker\n",
      "-5 Emily\n",
      "169 Whitaker\n",
      "-5 Emily\n",
      "173 Whitaker\n",
      "-5 Emily\n",
      "177 Whitaker\n",
      "-5 Emily\n",
      "181 Whitaker\n",
      "-5 Emily\n",
      "185 Whitaker\n",
      "-5 Emily\n",
      "189 Whitaker\n",
      "-5 Emily\n",
      "193 Whitaker\n",
      "-5 Emily\n",
      "197 Whitaker\n",
      "-5 Emily\n",
      "201 Whitaker\n",
      "-5 Emily\n",
      "205 Whitaker\n"
     ]
    }
   ],
   "source": [
    "'''Take the following piece of ineffiently written code and using the skills from above,\n",
    "rewrite it in as few lines as possible, so that it still gives the same output.  The current\n",
    "version is 31 lines.  How few can you do it in? (The lowest I could manage using the\n",
    "info in this lesson is 5)'''\n",
    "\n",
    "\n",
    "my_list = []\n",
    "your_list = []\n",
    "our_list = []\n",
    "x = 0\n",
    "y = 5\n",
    "z = 0\n",
    "while x < 101:\n",
    "    my_list.append(x)\n",
    "    x += 1\n",
    "while y < 106:\n",
    "    your_list.append(y)\n",
    "    y += 1\n",
    "while z < 101:\n",
    "    our_list.append(0)\n",
    "    z += 1\n",
    "z = 0\n",
    "while z < 101:\n",
    "    x_val = my_list[z]\n",
    "    y_val = your_list[z]\n",
    "    if z % 2 == 0:\n",
    "        our_list[z] = x_val + y_val\n",
    "    else:\n",
    "        our_list[z] = x_val - y_val\n",
    "    z += 1\n",
    "z = 0\n",
    "while z < 101:\n",
    "    if our_list[z] < 0:\n",
    "        print(str(our_list[z]) + \" Emily\")\n",
    "    else:\n",
    "        print(str(our_list[z]) + \" Whitaker\")\n",
    "    z += 1"
   ]
  },
  {
   "cell_type": "code",
   "execution_count": null,
   "metadata": {
    "collapsed": true
   },
   "outputs": [],
   "source": [
    "# Author: Paxton Fitzpatrick, 5/10/2018"
   ]
  }
 ],
 "metadata": {
  "kernelspec": {
   "display_name": "Python 3",
   "language": "python",
   "name": "python3"
  },
  "language_info": {
   "codemirror_mode": {
    "name": "ipython",
    "version": 3
   },
   "file_extension": ".py",
   "mimetype": "text/x-python",
   "name": "python",
   "nbconvert_exporter": "python",
   "pygments_lexer": "ipython3",
   "version": "3.6.2"
  }
 },
 "nbformat": 4,
 "nbformat_minor": 2
}

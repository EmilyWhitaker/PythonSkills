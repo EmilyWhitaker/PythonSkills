{
 "cells": [
  {
   "cell_type": "markdown",
   "metadata": {},
   "source": [
    "# Practice on Loops, lists, and conditions"
   ]
  },
  {
   "cell_type": "code",
   "execution_count": null,
   "metadata": {
    "collapsed": true
   },
   "outputs": [],
   "source": [
    "'''\n",
    "General questions:\n",
    "What's the difference between `=` and `==`?\n",
    "    = is for variable assignment, == is for comparison\n",
    "    \n",
    "What is a boolean expression?\n",
    "    An expression that returns a binary \"TRUE\" or \"FALSE\"\n",
    "    \n",
    "    How are ints, floats, and strings compared in boolean expressions?\n",
    "        Ints and floats can be compared mathematically (<, >, ==, etc.). Strings are compared alphabetically (a < z)\n",
    "        \n",
    "    How are 'and', 'or', and 'not' considered in boolean expressions?\n",
    "        and: both/all parts of statement must be true to return TRUE\n",
    "        or: at least one of the statements must be true to return TRUE\n",
    "        not: returns the opposite of the evaluation of the statement\n",
    "        \n",
    "What does the % operator do?\n",
    "    Returns the remainder of two numbers divided. E.g. 4%3 returns 1. 25%5 returns 0. 12%5 returns 2.\n",
    "    \n",
    "What's the difference between a while loop and a for loop?\n",
    "    A while loop runs WHILE a condition is true.  A for loop runs \"for each item\" in a list, range, or other indexible type\n",
    "    \n",
    "What is the \"condition\" in a while loop?\n",
    "    The condition is what sets the number of iterations through the loop. It's often assigned as a vairable that is\n",
    "    incrememnted, or based on a boolean, causing the loop to run until the boolean's value flips\n",
    "    \n",
    "    How do you increment this condition?\n",
    "        If it is based on a variable counter (setting a variable to a value and creating a condition from that variable)\n",
    "        you can add to/subtract from/increment in some way the value of the variable each time through the loop\n",
    "        If it is based on a boolean, you can create a condition that, at the point you want it to happen, changes the\n",
    "        boolean's value\n",
    "        \n",
    "What is an \"iterator\" in a for loop?\n",
    "    the iterator (often set as variable i, if not named more descriptively based on circumstance) is a temporary\n",
    "    variable created that loops over the given set of values. E.g. \"i\" is the iterator in \"for i in range(10):\"\n",
    "    \n",
    "    How is range() useful in a for loop?\n",
    "        Range() provides a temporary range of numbers over which the iterator loops. Useful as a way to tell a for loop\n",
    "        how many times to go through the loop.  Can be combined with the len() function to do the action performed\n",
    "        within the for loop the number of times that is the length of a list, string, array, etc.\n",
    "        \n",
    "Why is a for loop often much better to use than a while loop?\n",
    "    - while loops often require setting a global variable which is BAD practice. Takes up memory and can be inadvertently\n",
    "    overwritten or influence later parts of code, causing bugs.\n",
    "    - takes fewer lines, reducing runtime and making code look \"cleaner\"\n",
    "    - basing for loop iterator off or length of an object being looped over will keep the loop running the correct\n",
    "    number of times if the length of the object is changed.  Hard-coding a condition for a while loop will not.\n",
    "    \n",
    "How do \"if\", \"elif\", and \"else\" work?\n",
    "    when used in combination:\n",
    "    - if: if a condition is met, performed the following action\n",
    "    - elif: if a different condition is met, perform the following action\n",
    "    - else: if none of the above conditions are met, perform the following action\n",
    "    ** you can have unlimited elif statements following an if statement.\n",
    "\n",
    "\n",
    "Tip: a useful skill to learn is \"stepping through\" code, particularly with loops. Before you \n",
    "run each cell, walk yourself mentally through each line of your code and say/write down what\n",
    "you think the final output will be.  If you get an error, what made the code run differently\n",
    "than you expected?\n",
    "'''"
   ]
  },
  {
   "cell_type": "markdown",
   "metadata": {},
   "source": [
    "## Boolean Practice"
   ]
  },
  {
   "cell_type": "code",
   "execution_count": null,
   "metadata": {
    "collapsed": true
   },
   "outputs": [],
   "source": [
    "'''\n",
    "What will each of the following snippets of code return?\n",
    "Make a prediction, then run them to find out.\n",
    "'''\n",
    "\n",
    "c = 5 > 6\n",
    "print( c ) # False\n",
    "\n",
    "x = 5\n",
    "print(x < 4) # False\n",
    "\n",
    "x = 5\n",
    "print( x = 4 )    # what's the problem with this line?     = is for variable assignment, == is for cocmparison\n",
    "print( x == 4 ) # False\n",
    "\n",
    "print( x % 2 == 0) # False\n",
    "\n",
    "print( True and True ) # True\n",
    "print( True and False ) # False\n",
    "print( 3 < 4 and 10 < 12 ) # True\n",
    "print( 3 < 4 or 12 < 10 ) # True\n",
    "print( 4 < 3 or 12 < 10 ) # False\n",
    "print( (4 < 3 and 12 < 10) or 7 == 7 ) # True\n",
    "\n",
    "print( not 4 < 3 ) # True\n",
    "print( not not True ) # True"
   ]
  },
  {
   "cell_type": "markdown",
   "metadata": {},
   "source": [
    "## Loop and if statement practice"
   ]
  },
  {
   "cell_type": "markdown",
   "metadata": {},
   "source": [
    "### 1"
   ]
  },
  {
   "cell_type": "code",
   "execution_count": 3,
   "metadata": {
    "scrolled": true
   },
   "outputs": [
    {
     "name": "stdout",
     "output_type": "stream",
     "text": [
      "0\n",
      "1\n",
      "2\n",
      "3\n",
      "4\n",
      "5\n",
      "6\n",
      "7\n",
      "8\n",
      "9\n",
      "10\n",
      "11\n",
      "12\n",
      "13\n",
      "14\n",
      "15\n",
      "16\n",
      "17\n",
      "18\n",
      "19\n",
      "20\n",
      "21\n",
      "22\n",
      "23\n",
      "24\n",
      "25\n",
      "26\n",
      "27\n",
      "28\n",
      "29\n",
      "30\n",
      "31\n",
      "32\n",
      "33\n",
      "34\n",
      "35\n",
      "36\n",
      "37\n",
      "38\n",
      "39\n",
      "40\n",
      "41\n",
      "42\n",
      "43\n",
      "44\n",
      "45\n",
      "46\n",
      "47\n",
      "48\n",
      "49\n",
      "50\n"
     ]
    }
   ],
   "source": [
    "# Write a while loop that prints the numbers between 0 and 50\n",
    "\n",
    "x = 0\n",
    "while x < 51: # can also do x <= 50\n",
    "    print(x)\n",
    "    x += 1"
   ]
  },
  {
   "cell_type": "markdown",
   "metadata": {},
   "source": [
    "### 2"
   ]
  },
  {
   "cell_type": "code",
   "execution_count": 4,
   "metadata": {
    "scrolled": true
   },
   "outputs": [
    {
     "name": "stdout",
     "output_type": "stream",
     "text": [
      "0\n",
      "optimal\n",
      "memory\n",
      "absolute\n",
      "1\n",
      "optimal\n",
      "memory\n",
      "absolute\n",
      "2\n",
      "optimal\n",
      "memory\n",
      "absolute\n",
      "3\n",
      "optimal\n",
      "memory\n",
      "absolute\n",
      "4\n",
      "optimal\n",
      "memory\n",
      "absolute\n",
      "5\n",
      "optimal\n",
      "memory\n",
      "absolute\n",
      "6\n",
      "optimal\n",
      "memory\n",
      "absolute\n",
      "7\n",
      "optimal\n",
      "memory\n",
      "absolute\n",
      "8\n",
      "optimal\n",
      "memory\n",
      "absolute\n",
      "9\n",
      "optimal\n",
      "memory\n",
      "absolute\n",
      "10\n",
      "optimal\n",
      "memory\n",
      "absolute\n"
     ]
    }
   ],
   "source": [
    "# Write a while loop that prints the numbers between 0 and 10, but after each number, \n",
    "# prints each item of the following list once:\n",
    "some_words = ['optimal', 'memory', 'absolute']\n",
    "# Hint: use a nested loop!\n",
    "\n",
    "x = 0\n",
    "while x <= 10:\n",
    "    print(x)\n",
    "    y = 0\n",
    "    while y <= 2:\n",
    "        print(some_words[y])\n",
    "        y += 1\n",
    "    x += 1"
   ]
  },
  {
   "cell_type": "markdown",
   "metadata": {},
   "source": [
    "### 3"
   ]
  },
  {
   "cell_type": "code",
   "execution_count": 5,
   "metadata": {
    "scrolled": true
   },
   "outputs": [
    {
     "name": "stdout",
     "output_type": "stream",
     "text": [
      "0\n",
      "2\n",
      "4\n",
      "6\n",
      "8\n",
      "10\n",
      "12\n",
      "14\n",
      "16\n",
      "18\n",
      "20\n",
      "22\n",
      "24\n",
      "26\n",
      "28\n",
      "30\n",
      "32\n",
      "34\n",
      "36\n",
      "38\n",
      "40\n",
      "42\n",
      "44\n",
      "46\n",
      "48\n",
      "50\n"
     ]
    }
   ],
   "source": [
    "# Write a while loop that prints the EVEN numbers between 0 and 50\n",
    "# Hint: use a nested if statement!\n",
    "\n",
    "x = 0\n",
    "while x <= 50:\n",
    "    if x%2 == 0:\n",
    "        print(x)\n",
    "    x += 1"
   ]
  },
  {
   "cell_type": "markdown",
   "metadata": {},
   "source": [
    "### 4"
   ]
  },
  {
   "cell_type": "code",
   "execution_count": 24,
   "metadata": {
    "scrolled": true
   },
   "outputs": [
    {
     "name": "stdout",
     "output_type": "stream",
     "text": [
      "0\n",
      "1\n",
      "2\n",
      "3\n",
      "4\n",
      "5\n",
      "6\n",
      "7\n",
      "8\n",
      "9\n",
      "10\n",
      "11\n",
      "12\n",
      "13\n",
      "14\n",
      "15\n",
      "16\n",
      "17\n",
      "18\n",
      "19\n",
      "20\n",
      "19\n",
      "18\n",
      "17\n",
      "16\n",
      "15\n",
      "14\n",
      "13\n",
      "12\n",
      "11\n",
      "10\n",
      "9\n",
      "8\n",
      "7\n",
      "6\n",
      "5\n",
      "4\n",
      "3\n",
      "2\n",
      "1\n",
      "0\n",
      "1\n",
      "2\n",
      "3\n",
      "4\n",
      "5\n",
      "6\n",
      "7\n",
      "8\n",
      "9\n",
      "10\n",
      "11\n",
      "12\n",
      "13\n",
      "14\n",
      "15\n",
      "16\n",
      "17\n",
      "18\n",
      "19\n",
      "20\n",
      "19\n",
      "18\n",
      "17\n",
      "16\n",
      "15\n",
      "14\n",
      "13\n",
      "12\n",
      "11\n",
      "10\n",
      "9\n",
      "8\n",
      "7\n",
      "6\n",
      "5\n",
      "4\n",
      "3\n",
      "2\n",
      "1\n",
      "0\n",
      "1\n",
      "2\n",
      "3\n",
      "4\n",
      "5\n",
      "6\n",
      "7\n",
      "8\n",
      "9\n",
      "10\n",
      "11\n",
      "12\n",
      "13\n",
      "14\n",
      "15\n",
      "16\n",
      "17\n",
      "18\n",
      "19\n",
      "20\n",
      "19\n",
      "18\n",
      "17\n",
      "16\n",
      "15\n",
      "14\n",
      "13\n",
      "12\n",
      "11\n",
      "10\n",
      "9\n",
      "8\n",
      "7\n",
      "6\n",
      "5\n",
      "4\n",
      "3\n",
      "2\n",
      "1\n"
     ]
    }
   ],
   "source": [
    "'''Write some code that counts from 0 up to 20 then back down to 1 \n",
    "THREE TIMES TOTAL, then stops.\n",
    "Hint: What condition can you set that will cause you to change the direction you're counting?\n",
    "Hint: What can you do to cause this to happen three times then stop?'''\n",
    "\n",
    "# Here's just one possible solution. There are many!\n",
    "counter = 0\n",
    "n_runs = 0\n",
    "increase = False\n",
    "\n",
    "while n_runs <= 5:               # since one run through the loop either takes you up to 20 or down to 1, you need 6 runs\n",
    "    if counter == 20:\n",
    "        print(counter)\n",
    "        increase = not increase  #the \"not\" here flips the boolean \"increase\" to the opposite of its current value.\n",
    "        counter -= 1\n",
    "    elif counter == 0:\n",
    "        print(counter)\n",
    "        increase = not increase\n",
    "        counter += 1\n",
    "    while counter > 0 and counter < 20:\n",
    "        print(counter)\n",
    "        if increase:             # this is the same as saying \"if increase == True\"\n",
    "            counter += 1\n",
    "        else:                    # since there are only two options, \"else\" does the same as \"if not increase\"\n",
    "            counter -= 1\n",
    "    n_runs += 1\n",
    "        "
   ]
  },
  {
   "cell_type": "markdown",
   "metadata": {},
   "source": [
    "### 5"
   ]
  },
  {
   "cell_type": "code",
   "execution_count": 26,
   "metadata": {
    "scrolled": true
   },
   "outputs": [
    {
     "name": "stdout",
     "output_type": "stream",
     "text": [
      "Nope, this one's odd\n",
      "Yes, it's divisible by 2\n",
      "Nope, this one's odd\n",
      "Yes, it's divisible by 4\n",
      "Nope, this one's odd\n",
      "Yes, it's divisible by 2\n",
      "Nope, this one's odd\n",
      "Yes, it's divisible by 4\n",
      "Nope, this one's odd\n",
      "Yes, it's divisible by 2\n",
      "Nope, this one's odd\n",
      "Yes, it's divisible by 4\n",
      "Nope, this one's odd\n",
      "Yes, it's divisible by 2\n",
      "Nope, this one's odd\n",
      "Yes, it's divisible by 4\n",
      "Nope, this one's odd\n",
      "Yes, it's divisible by 2\n",
      "Nope, this one's odd\n",
      "Yes, it's divisible by 4\n",
      "Nope, this one's odd\n",
      "Yes, it's divisible by 2\n",
      "Nope, this one's odd\n",
      "Yes, it's divisible by 4\n",
      "Nope, this one's odd\n",
      "Yes, it's divisible by 2\n",
      "Nope, this one's odd\n",
      "Yes, it's divisible by 4\n",
      "Nope, this one's odd\n",
      "Yes, it's divisible by 2\n",
      "Nope, this one's odd\n",
      "Yes, it's divisible by 4\n",
      "Nope, this one's odd\n",
      "Yes, it's divisible by 2\n",
      "Nope, this one's odd\n",
      "Yes, it's divisible by 4\n",
      "Nope, this one's odd\n",
      "Yes, it's divisible by 2\n",
      "Nope, this one's odd\n",
      "Yes, it's divisible by 4\n",
      "Nope, this one's odd\n",
      "Yes, it's divisible by 2\n",
      "Nope, this one's odd\n",
      "Yes, it's divisible by 4\n",
      "Nope, this one's odd\n",
      "Yes, it's divisible by 2\n",
      "Nope, this one's odd\n",
      "Yes, it's divisible by 4\n",
      "Nope, this one's odd\n"
     ]
    }
   ],
   "source": [
    "'''Fill in the following \"skeleton code\" so that the output is \"Yes, it's\n",
    "divisible by 2\" if the number is divisible by 2, \"Yes, it's divisible by 4\"\n",
    "if the number is divisible by 4, and \"Nope, this one's odd\" if it is odd.\n",
    "'''\n",
    "x = 1\n",
    "while x < 50:\n",
    "    if x % 2 == 0:\n",
    "        if x % 4 == 0:\n",
    "            print(\"Yes, it's divisible by 4\")\n",
    "        else:\n",
    "            print(\"Yes, it's divisible by 2\")\n",
    "    else:\n",
    "        print(\"Nope, this one's odd\")\n",
    "    x += 1\n",
    "    "
   ]
  },
  {
   "cell_type": "markdown",
   "metadata": {},
   "source": [
    "### 6"
   ]
  },
  {
   "cell_type": "code",
   "execution_count": 28,
   "metadata": {
    "scrolled": true
   },
   "outputs": [
    {
     "name": "stdout",
     "output_type": "stream",
     "text": [
      "12 Emily\n",
      "13 Whitaker\n",
      "14 Emily\n",
      "15 Whitaker\n",
      "16 Emily\n",
      "17 Whitaker\n",
      "18 Emily\n",
      "19 Whitaker\n",
      "20 Emily\n",
      "21 Whitaker\n",
      "22 Emily\n",
      "23 Whitaker\n",
      "24 Emily\n",
      "25 Whitaker\n",
      "26 Emily\n",
      "27 Whitaker\n",
      "28 Emily\n",
      "29 Whitaker\n",
      "30 Emily\n",
      "31 Whitaker\n",
      "32 Emily\n",
      "33 Whitaker\n",
      "34 Emily\n",
      "35 Whitaker\n"
     ]
    }
   ],
   "source": [
    "''' Write a piece of code that counts from 12 to 35, and prints the number, along with the word\n",
    "\"Emily\" if the number is even, and \"Whitaker\" if the number is odd.\n",
    "'''\n",
    "\n",
    "x = 12\n",
    "while x <= 35:\n",
    "    if x % 2 == 0:\n",
    "        print(str(x) + \" Emily\")\n",
    "    else:\n",
    "        print(str(x) + \" Whitaker\")\n",
    "    x += 1"
   ]
  },
  {
   "cell_type": "markdown",
   "metadata": {},
   "source": [
    "### 6b"
   ]
  },
  {
   "cell_type": "code",
   "execution_count": 29,
   "metadata": {
    "scrolled": true
   },
   "outputs": [
    {
     "name": "stdout",
     "output_type": "stream",
     "text": [
      "12 Emily\n",
      "13 Whitaker\n",
      "14 Emily\n",
      "15 Whitaker\n",
      "16 Emily\n",
      "17 Whitaker\n",
      "18 Emily\n",
      "19 Whitaker\n",
      "20 Emily\n",
      "21 Whitaker\n",
      "22 Emily\n",
      "23 Whitaker\n",
      "24 Emily\n",
      "25 Whitaker\n",
      "26 Emily\n",
      "27 Whitaker\n",
      "28 Emily\n",
      "29 Whitaker\n",
      "30 Emily\n",
      "31 Whitaker\n",
      "32 Emily\n",
      "33 Whitaker\n",
      "34 Emily\n",
      "35 Whitaker\n"
     ]
    }
   ],
   "source": [
    "'''Redo number 6, but without typing the words \"Emily\" and \"Whitaker\" in your print statements.\n",
    "Hint: How else could you store the words and then reference them so that they are printed in\n",
    "the right places?\n",
    "'''\n",
    "E = \" Emily\"\n",
    "W = \" Whitaker\"\n",
    "x = 12\n",
    "while x <= 35:\n",
    "    if x % 2 == 0:\n",
    "        print(str(x) + E)\n",
    "    else:\n",
    "        print(str(x) + W)\n",
    "    x += 1"
   ]
  },
  {
   "cell_type": "markdown",
   "metadata": {},
   "source": [
    "### 7"
   ]
  },
  {
   "cell_type": "code",
   "execution_count": 31,
   "metadata": {
    "scrolled": true
   },
   "outputs": [
    {
     "name": "stdout",
     "output_type": "stream",
     "text": [
      "True\n",
      "My name is Emily\n",
      "True\n",
      "My name is Emily\n",
      "True\n",
      "WOOOO 35 is divisble by 7!\n",
      "True\n",
      "My name is Emily\n",
      "True\n",
      "My name is Emily\n",
      "True\n",
      "My name is Emily\n",
      "WOOOO 42 is divisble by 7!\n",
      "My name is Emily\n",
      "True\n",
      "My name is Emily\n",
      "True\n",
      "My name is Emily\n",
      "True\n",
      "WOOOO 49 is divisble by 7!\n",
      "True\n",
      "My name is Emily\n",
      "True\n",
      "My name is Emily\n",
      "True\n",
      "My name is Emily\n",
      "WOOOO 56 is divisble by 7!\n",
      "My name is Emily\n",
      "True\n",
      "My name is Emily\n",
      "True\n",
      "My name is Emily\n",
      "True\n",
      "WOOOO 63 is divisble by 7!\n",
      "True\n",
      "My name is Emily\n",
      "True\n",
      "My name is Emily\n",
      "True\n",
      "My name is Emily\n",
      "WOOOO 70 is divisble by 7!\n",
      "My name is Emily\n",
      "True\n",
      "My name is Emily\n",
      "True\n",
      "My name is Emily\n",
      "True\n",
      "WOOOO 77 is divisble by 7!\n",
      "True\n",
      "My name is Emily\n",
      "True\n"
     ]
    }
   ],
   "source": [
    "'''Challenge: Write some code that for each number between 30 and 80, prints \"TRUE\" if\n",
    "the number is even, prints \"My name is Emily\" if the number is odd, BUT\n",
    "does neither of those things and instead prints \"WOOOO ___ is divisble by 7!\" if the number is\n",
    "divisible by 7 (the ___ should be the number).  Do this WITHOUT directly telling your code to \n",
    "print the word TRUE, but rather using a boolean expression that depends on the current number.\n",
    "Also do this without nesting any if statements inside other if statements\n",
    "Hint: how can you sort multiple conditions without nesting if's?\n",
    "Hint: which condition should you deal with first, and why?'''\n",
    "\n",
    "x = 30\n",
    "while x <= 80:\n",
    "    if x % 7 == 0:\n",
    "        print(\"WOOOO \" + str(x) + \" is divisble by 7!\")\n",
    "    elif x % 2 == 0:\n",
    "        print(x % 2 == 0)\n",
    "    else:\n",
    "        print(\"My name is Emily\")\n",
    "    x += 1"
   ]
  },
  {
   "cell_type": "markdown",
   "metadata": {
    "collapsed": true
   },
   "source": [
    "### 8"
   ]
  },
  {
   "cell_type": "code",
   "execution_count": 33,
   "metadata": {
    "scrolled": true
   },
   "outputs": [
    {
     "name": "stdout",
     "output_type": "stream",
     "text": [
      "0\n",
      "1\n",
      "2\n",
      "3\n",
      "4\n",
      "5\n",
      "6\n",
      "7\n",
      "8\n",
      "9\n",
      "10\n",
      "11\n",
      "12\n",
      "13\n",
      "14\n",
      "15\n",
      "16\n",
      "17\n",
      "18\n",
      "19\n",
      "20\n",
      "21\n",
      "22\n",
      "23\n",
      "24\n",
      "25\n",
      "26\n",
      "27\n",
      "28\n",
      "29\n",
      "30\n",
      "31\n",
      "32\n",
      "33\n",
      "34\n",
      "35\n",
      "36\n",
      "37\n",
      "38\n",
      "39\n",
      "40\n",
      "41\n",
      "42\n",
      "43\n",
      "44\n",
      "45\n",
      "46\n",
      "47\n",
      "48\n",
      "49\n",
      "50\n"
     ]
    }
   ],
   "source": [
    "'''Take your solutions to problems 1, 2, 3, 5, 6, and 7, and rewrite them using for loops instead\n",
    "of while loops.  Which way uses fewer lines of code?\n",
    "Hint: how can the range() function help with this?\n",
    "'''\n",
    "# redo 1 here\n",
    "\n",
    "for x in range(51): \n",
    "    print(x)"
   ]
  },
  {
   "cell_type": "code",
   "execution_count": 34,
   "metadata": {
    "scrolled": true
   },
   "outputs": [
    {
     "name": "stdout",
     "output_type": "stream",
     "text": [
      "0\n",
      "optimal\n",
      "memory\n",
      "absolute\n",
      "1\n",
      "optimal\n",
      "memory\n",
      "absolute\n",
      "2\n",
      "optimal\n",
      "memory\n",
      "absolute\n",
      "3\n",
      "optimal\n",
      "memory\n",
      "absolute\n",
      "4\n",
      "optimal\n",
      "memory\n",
      "absolute\n",
      "5\n",
      "optimal\n",
      "memory\n",
      "absolute\n",
      "6\n",
      "optimal\n",
      "memory\n",
      "absolute\n",
      "7\n",
      "optimal\n",
      "memory\n",
      "absolute\n",
      "8\n",
      "optimal\n",
      "memory\n",
      "absolute\n",
      "9\n",
      "optimal\n",
      "memory\n",
      "absolute\n",
      "10\n",
      "optimal\n",
      "memory\n",
      "absolute\n"
     ]
    }
   ],
   "source": [
    "# redo 2 here\n",
    "\n",
    "some_words = ['optimal', 'memory', 'absolute']\n",
    "\n",
    "for x in range(11):\n",
    "    print(x)\n",
    "    for y in some_words:\n",
    "        print(y)"
   ]
  },
  {
   "cell_type": "code",
   "execution_count": 35,
   "metadata": {
    "scrolled": true
   },
   "outputs": [
    {
     "name": "stdout",
     "output_type": "stream",
     "text": [
      "0\n",
      "2\n",
      "4\n",
      "6\n",
      "8\n",
      "10\n",
      "12\n",
      "14\n",
      "16\n",
      "18\n",
      "20\n",
      "22\n",
      "24\n",
      "26\n",
      "28\n",
      "30\n",
      "32\n",
      "34\n",
      "36\n",
      "38\n",
      "40\n",
      "42\n",
      "44\n",
      "46\n",
      "48\n",
      "50\n"
     ]
    }
   ],
   "source": [
    "# redo 3 here\n",
    "\n",
    "for x in range(51):\n",
    "    if x%2 == 0:\n",
    "        print(x)"
   ]
  },
  {
   "cell_type": "code",
   "execution_count": 36,
   "metadata": {
    "scrolled": true
   },
   "outputs": [
    {
     "name": "stdout",
     "output_type": "stream",
     "text": [
      "Yes, it's divisible by 4\n",
      "Nope, this one's odd\n",
      "Yes, it's divisible by 2\n",
      "Nope, this one's odd\n",
      "Yes, it's divisible by 4\n",
      "Nope, this one's odd\n",
      "Yes, it's divisible by 2\n",
      "Nope, this one's odd\n",
      "Yes, it's divisible by 4\n",
      "Nope, this one's odd\n",
      "Yes, it's divisible by 2\n",
      "Nope, this one's odd\n",
      "Yes, it's divisible by 4\n",
      "Nope, this one's odd\n",
      "Yes, it's divisible by 2\n",
      "Nope, this one's odd\n",
      "Yes, it's divisible by 4\n",
      "Nope, this one's odd\n",
      "Yes, it's divisible by 2\n",
      "Nope, this one's odd\n",
      "Yes, it's divisible by 4\n",
      "Nope, this one's odd\n",
      "Yes, it's divisible by 2\n",
      "Nope, this one's odd\n",
      "Yes, it's divisible by 4\n",
      "Nope, this one's odd\n",
      "Yes, it's divisible by 2\n",
      "Nope, this one's odd\n",
      "Yes, it's divisible by 4\n",
      "Nope, this one's odd\n",
      "Yes, it's divisible by 2\n",
      "Nope, this one's odd\n",
      "Yes, it's divisible by 4\n",
      "Nope, this one's odd\n",
      "Yes, it's divisible by 2\n",
      "Nope, this one's odd\n",
      "Yes, it's divisible by 4\n",
      "Nope, this one's odd\n",
      "Yes, it's divisible by 2\n",
      "Nope, this one's odd\n",
      "Yes, it's divisible by 4\n",
      "Nope, this one's odd\n",
      "Yes, it's divisible by 2\n",
      "Nope, this one's odd\n",
      "Yes, it's divisible by 4\n",
      "Nope, this one's odd\n",
      "Yes, it's divisible by 2\n",
      "Nope, this one's odd\n",
      "Yes, it's divisible by 4\n",
      "Nope, this one's odd\n",
      "Yes, it's divisible by 2\n"
     ]
    }
   ],
   "source": [
    "# redo 5 here\n",
    "\n",
    "for x in range(51):\n",
    "    if x % 2 == 0:\n",
    "        if x % 4 == 0:\n",
    "            print(\"Yes, it's divisible by 4\")\n",
    "        else:\n",
    "            print(\"Yes, it's divisible by 2\")\n",
    "    else:\n",
    "        print(\"Nope, this one's odd\")"
   ]
  },
  {
   "cell_type": "code",
   "execution_count": 37,
   "metadata": {
    "scrolled": true
   },
   "outputs": [
    {
     "name": "stdout",
     "output_type": "stream",
     "text": [
      "0 Emily\n",
      "1 Whitaker\n",
      "2 Emily\n",
      "3 Whitaker\n",
      "4 Emily\n",
      "5 Whitaker\n",
      "6 Emily\n",
      "7 Whitaker\n",
      "8 Emily\n",
      "9 Whitaker\n",
      "10 Emily\n",
      "11 Whitaker\n",
      "12 Emily\n",
      "13 Whitaker\n",
      "14 Emily\n",
      "15 Whitaker\n",
      "16 Emily\n",
      "17 Whitaker\n",
      "18 Emily\n",
      "19 Whitaker\n",
      "20 Emily\n",
      "21 Whitaker\n",
      "22 Emily\n",
      "23 Whitaker\n",
      "24 Emily\n",
      "25 Whitaker\n",
      "26 Emily\n",
      "27 Whitaker\n",
      "28 Emily\n",
      "29 Whitaker\n",
      "30 Emily\n",
      "31 Whitaker\n",
      "32 Emily\n",
      "33 Whitaker\n",
      "34 Emily\n",
      "35 Whitaker\n"
     ]
    }
   ],
   "source": [
    "# redo 6 here\n",
    "\n",
    "for x in range(36):\n",
    "    if x % 2 == 0:\n",
    "        print(str(x) + \" Emily\")\n",
    "    else:\n",
    "        print(str(x) + \" Whitaker\")"
   ]
  },
  {
   "cell_type": "markdown",
   "metadata": {},
   "source": [
    "## Indexing things other than lists"
   ]
  },
  {
   "cell_type": "code",
   "execution_count": null,
   "metadata": {
    "collapsed": true
   },
   "outputs": [],
   "source": [
    "'''You can index into a list using brackets (e.g. some_list[0] gives you the first item\n",
    "in the list) but you can also index things like strings. For example:'''\n",
    "your_name = 'Emily'\n",
    "print(your_name[1]) #this would print 'm'\n",
    "print(your_name[2]) #this would print 'i'\n",
    "\n",
    "'''This can be useful combined with type conversions, like the str() function, \n",
    "used to convert other \"types\" to strings. You can also use int(), float(), list(), dict(), etc\n",
    "for types that are built into Python. Many packages offer their own versions of this like numpy,\n",
    "where you can use numpy.array() to convert something to a data array, or pandas, in which\n",
    "pandas.DataFrame() to make a dataframe out of something like a numpy array or a dictionary.\n",
    "You can always check what \"type\" a variable currently is by doing type(<variable-name>)\n",
    "'''"
   ]
  },
  {
   "cell_type": "markdown",
   "metadata": {},
   "source": [
    "### 9"
   ]
  },
  {
   "cell_type": "code",
   "execution_count": 38,
   "metadata": {},
   "outputs": [
    {
     "name": "stdout",
     "output_type": "stream",
     "text": [
      "7\n"
     ]
    }
   ],
   "source": [
    "'''Take this integer and convert it to a string, then index it to print out the digit 7'''\n",
    "number = 12347234890\n",
    "\n",
    "string_number = str(number)\n",
    "print(string_number[4])\n",
    "# or in one line: print(str(number[4]))"
   ]
  },
  {
   "cell_type": "markdown",
   "metadata": {},
   "source": [
    "## Other useful indexing tricks"
   ]
  },
  {
   "cell_type": "code",
   "execution_count": null,
   "metadata": {
    "collapsed": true
   },
   "outputs": [],
   "source": [
    "'''Pulling out one index of something at a timefrom the beginning isn't the only way. You can\n",
    "return multiple indices, or index from the back, by doing things like:'''\n",
    "\n",
    "my_list = [11, 12, 13, 14, 15, 16, 17, 18, 19, 20]\n",
    "print(my_list[:4]) # prints [11, 12, 13, 14] -- from the beginning of my_list up to (but not including!) my_list[4]\n",
    "print(my_list[2:6]) # prints [13, 14, 15, 16] -- from my_list[2] up to (but not including!) my_list[6]\n",
    "print(my_list[5:]) # prints [16, 17, 18, 19, 20] -- from my_list[5] to the end of the list\n",
    "print(my_list[-2]) # prints 20 -- the \"minus 1st\" index of the list\n",
    "print(my_list[:-5]) # prints [11, 12, 13, 14, 15] -- the beginning up to (but not including!) the \"minus 5th\" index\n",
    "print(my_list[-3:]) # prints [18, 19, 20] -- the \"minus third\" to last item of the list"
   ]
  },
  {
   "cell_type": "markdown",
   "metadata": {},
   "source": [
    "### 10"
   ]
  },
  {
   "cell_type": "code",
   "execution_count": 50,
   "metadata": {},
   "outputs": [
    {
     "name": "stdout",
     "output_type": "stream",
     "text": [
      "hit\n",
      "hit\n"
     ]
    }
   ],
   "source": [
    "'''Take this string and make it print out 'hit' by indexing from the front and back '''\n",
    "cool_name = 'EmilyWhitaker'\n",
    "\n",
    "# indexing from the front\n",
    "print(cool_name[6:9])\n",
    "\n",
    "# indexing from the back\n",
    "print(cool_name[-7:-4])"
   ]
  },
  {
   "cell_type": "markdown",
   "metadata": {},
   "source": [
    "## List comprehensions"
   ]
  },
  {
   "cell_type": "code",
   "execution_count": 24,
   "metadata": {
    "collapsed": true
   },
   "outputs": [],
   "source": [
    "'''List comprehensions are a really useful way to make looping over things more efficient.\n",
    "They can get really complicated when you're doing complex tasks, but here are two simple examples.\n",
    "\n",
    "You can take a piece of code that looks like this:'''\n",
    "\n",
    "my_list = []\n",
    "for num in range(20):\n",
    "    my_list.append(num)\n",
    "print(my_list)\n",
    "\n",
    "'''and turn it into a comprehension that looks like this:'''\n",
    "\n",
    "my_list = [num for num in range(20)]\n",
    "\n",
    "\n",
    "\n",
    "'''You can also take a chunk of code like this:'''\n",
    "\n",
    "my_long_list = []\n",
    "for num in range(20):\n",
    "    my_long_list.append(num)\n",
    "\n",
    "my_short_list = []\n",
    "for num in my_short_list:\n",
    "    if num < 15:\n",
    "        my_short_list.append(num)\n",
    "        \n",
    "'''and turn it into this:'''\n",
    "\n",
    "my_long_list = [num for num in range(20)]\n",
    "my_short_list = [num for num in range(20) if num<15]"
   ]
  },
  {
   "cell_type": "markdown",
   "metadata": {},
   "source": [
    "### 11"
   ]
  },
  {
   "cell_type": "code",
   "execution_count": 51,
   "metadata": {},
   "outputs": [
    {
     "name": "stdout",
     "output_type": "stream",
     "text": [
      "[21, 24, 27, 30, 33, 36, 39, 42, 45, 48, 51, 54, 57, 60, 63, 66, 69, 72, 75, 78, 81, 84, 87, 90]\n"
     ]
    }
   ],
   "source": [
    "'''Using a list comprehension, print a list of the numbers between 20 and 90 that are divisble\n",
    "by 3.\n",
    "Hint: remember how the % operator works!'''\n",
    "\n",
    "print([i for i in range(20,91) if i % 3 ==0])"
   ]
  },
  {
   "cell_type": "markdown",
   "metadata": {},
   "source": [
    "## Put it all together!"
   ]
  },
  {
   "cell_type": "code",
   "execution_count": 55,
   "metadata": {
    "scrolled": true
   },
   "outputs": [
    {
     "name": "stdout",
     "output_type": "stream",
     "text": [
      "5 Whitaker\n",
      "-5 Emily\n",
      "9 Whitaker\n",
      "-5 Emily\n",
      "13 Whitaker\n",
      "-5 Emily\n",
      "17 Whitaker\n",
      "-5 Emily\n",
      "21 Whitaker\n",
      "-5 Emily\n",
      "25 Whitaker\n",
      "-5 Emily\n",
      "29 Whitaker\n",
      "-5 Emily\n",
      "33 Whitaker\n",
      "-5 Emily\n",
      "37 Whitaker\n",
      "-5 Emily\n",
      "41 Whitaker\n",
      "-5 Emily\n",
      "45 Whitaker\n",
      "-5 Emily\n",
      "49 Whitaker\n",
      "-5 Emily\n",
      "53 Whitaker\n",
      "-5 Emily\n",
      "57 Whitaker\n",
      "-5 Emily\n",
      "61 Whitaker\n",
      "-5 Emily\n",
      "65 Whitaker\n",
      "-5 Emily\n",
      "69 Whitaker\n",
      "-5 Emily\n",
      "73 Whitaker\n",
      "-5 Emily\n",
      "77 Whitaker\n",
      "-5 Emily\n",
      "81 Whitaker\n",
      "-5 Emily\n",
      "85 Whitaker\n",
      "-5 Emily\n",
      "89 Whitaker\n",
      "-5 Emily\n",
      "93 Whitaker\n",
      "-5 Emily\n",
      "97 Whitaker\n",
      "-5 Emily\n",
      "101 Whitaker\n",
      "-5 Emily\n",
      "105 Whitaker\n",
      "-5 Emily\n",
      "109 Whitaker\n",
      "-5 Emily\n",
      "113 Whitaker\n",
      "-5 Emily\n",
      "117 Whitaker\n",
      "-5 Emily\n",
      "121 Whitaker\n",
      "-5 Emily\n",
      "125 Whitaker\n",
      "-5 Emily\n",
      "129 Whitaker\n",
      "-5 Emily\n",
      "133 Whitaker\n",
      "-5 Emily\n",
      "137 Whitaker\n",
      "-5 Emily\n",
      "141 Whitaker\n",
      "-5 Emily\n",
      "145 Whitaker\n",
      "-5 Emily\n",
      "149 Whitaker\n",
      "-5 Emily\n",
      "153 Whitaker\n",
      "-5 Emily\n",
      "157 Whitaker\n",
      "-5 Emily\n",
      "161 Whitaker\n",
      "-5 Emily\n",
      "165 Whitaker\n",
      "-5 Emily\n",
      "169 Whitaker\n",
      "-5 Emily\n",
      "173 Whitaker\n",
      "-5 Emily\n",
      "177 Whitaker\n",
      "-5 Emily\n",
      "181 Whitaker\n",
      "-5 Emily\n",
      "185 Whitaker\n",
      "-5 Emily\n",
      "189 Whitaker\n",
      "-5 Emily\n",
      "193 Whitaker\n",
      "-5 Emily\n",
      "197 Whitaker\n",
      "-5 Emily\n",
      "201 Whitaker\n",
      "-5 Emily\n",
      "205 Whitaker\n"
     ]
    }
   ],
   "source": [
    "'''Take the following piece of ineffiently written code and using the skills from above,\n",
    "rewrite it in as few lines as possible, so that it still gives the same output.  The current\n",
    "version is 31 lines.  How few can you do it in? (The lowest I could manage using the\n",
    "info in this lesson is 5)'''\n",
    "\n",
    "\n",
    "my_list = []\n",
    "your_list = []\n",
    "our_list = []\n",
    "x = 0\n",
    "y = 5\n",
    "z = 0\n",
    "while x < 101:\n",
    "    my_list.append(x)\n",
    "    x += 1\n",
    "while y < 106:\n",
    "    your_list.append(y)\n",
    "    y += 1\n",
    "while z < 101:\n",
    "    our_list.append(0)\n",
    "    z += 1\n",
    "z = 0\n",
    "while z < 101:\n",
    "    x_val = my_list[z]\n",
    "    y_val = your_list[z]\n",
    "    if z % 2 == 0:\n",
    "        our_list[z] = x_val + y_val\n",
    "    else:\n",
    "        our_list[z] = x_val - y_val\n",
    "    z += 1\n",
    "z = 0\n",
    "while z < 101:\n",
    "    if our_list[z] < 0:\n",
    "        print(str(our_list[z]) + \" Emily\")\n",
    "    else:\n",
    "        print(str(our_list[z]) + \" Whitaker\")\n",
    "    z += 1\n",
    "    \n",
    "    \n",
    "    \n",
    "    \n",
    "    \n",
    "    \n",
    "    \n",
    "my_list = [i for i in range(101)]\n",
    "your_list = [j for j in range(5,106)]\n",
    "our_list = [my_list[k] + your_list[k] if k % 2 == 0 else my_list[k] - your_list[k] for k in range(101)]\n",
    "for item in our_list:\n",
    "    print(str(item)+' Emily' if item < 0 else str(item)+' Whitaker')"
   ]
  },
  {
   "cell_type": "code",
   "execution_count": null,
   "metadata": {
    "collapsed": true
   },
   "outputs": [],
   "source": [
    "# Author: Paxton Fitzpatrick, 5/10/2018"
   ]
  }
 ],
 "metadata": {
  "kernelspec": {
   "display_name": "Python 3",
   "language": "python",
   "name": "python3"
  },
  "language_info": {
   "codemirror_mode": {
    "name": "ipython",
    "version": 3
   },
   "file_extension": ".py",
   "mimetype": "text/x-python",
   "name": "python",
   "nbconvert_exporter": "python",
   "pygments_lexer": "ipython3",
   "version": "3.6.2"
  }
 },
 "nbformat": 4,
 "nbformat_minor": 2
}
